{
 "cells": [
  {
   "cell_type": "code",
   "execution_count": 2,
   "id": "9aa9229b-53fa-43d5-89b7-79f38160b4ec",
   "metadata": {},
   "outputs": [],
   "source": [
    "import re \n",
    "import os\n",
    "import os.path as osp\n",
    "import torch\n",
    "import pandas\n",
    "import pandas as pd\n",
    "import json\n",
    "import time\n",
    "\n",
    "from transformers import (\n",
    "    AutoModelForCausalLM,\n",
    "    AutoTokenizer,\n",
    "    BitsAndBytesConfig,\n",
    "    HfArgumentParser,\n",
    "    TrainingArguments,\n",
    "    pipeline,\n",
    "    logging,\n",
    ")\n",
    "from peft import LoraConfig, PeftModel\n",
    "from trl import SFTTrainer\n",
    "\n",
    "import openai\n",
    "from sklearn.metrics import classification_report"
   ]
  },
  {
   "cell_type": "code",
   "execution_count": 3,
   "id": "b255368c-561a-4a6a-98e8-f9f6e96c02d1",
   "metadata": {},
   "outputs": [],
   "source": [
    "model_name = \"beomi/llama-2-koen-13b\"\n",
    "\n",
    "# Fine-tuned model name\n",
    "new_model = \"llama-2-ko-13b-ft-multi-task-t3_l2048_v2\""
   ]
  },
  {
   "cell_type": "code",
   "execution_count": 4,
   "id": "cd9b0e59-021c-4a28-8d71-b103ef987015",
   "metadata": {},
   "outputs": [
    {
     "data": {
      "text/plain": [
       "'models/llama-2-ko-13b-ft-multi-task-t3_l2048_v2'"
      ]
     },
     "execution_count": 4,
     "metadata": {},
     "output_type": "execute_result"
    }
   ],
   "source": [
    "save_path = 'models/' +  new_model # adapt\n",
    "save_path "
   ]
  },
  {
   "cell_type": "code",
   "execution_count": 5,
   "id": "a529bb6c-b836-4b9a-8da8-8928440341cb",
   "metadata": {},
   "outputs": [
    {
     "data": {
      "application/vnd.jupyter.widget-view+json": {
       "model_id": "90a6327485384dcbb9658288287e8bf1",
       "version_major": 2,
       "version_minor": 0
      },
      "text/plain": [
       "Loading checkpoint shards:   0%|          | 0/10 [00:00<?, ?it/s]"
      ]
     },
     "metadata": {},
     "output_type": "display_data"
    }
   ],
   "source": [
    "# Reload model in FP16 and merge it with LoRA weights\n",
    "base_model = AutoModelForCausalLM.from_pretrained(\n",
    "    model_name,\n",
    "    low_cpu_mem_usage=True,\n",
    "    return_dict=True,\n",
    "    torch_dtype=torch.float16,\n",
    "    device_map= 'auto',\n",
    ")\n",
    "model = PeftModel.from_pretrained(base_model, save_path)\n",
    "model = model.merge_and_unload()\n",
    "\n",
    "# Reload tokenizer to save it\n",
    "tokenizer = AutoTokenizer.from_pretrained(model_name, trust_remote_code=True)\n",
    "tokenizer.pad_token = tokenizer.eos_token\n",
    "tokenizer.padding_side = \"right\""
   ]
  },
  {
   "cell_type": "code",
   "execution_count": null,
   "id": "c00f7d0f-2ca3-493e-8273-7946e5819289",
   "metadata": {},
   "outputs": [],
   "source": []
  },
  {
   "cell_type": "code",
   "execution_count": null,
   "id": "0e14c0a6-875a-45da-a175-f27bb218c490",
   "metadata": {},
   "outputs": [],
   "source": []
  },
  {
   "cell_type": "code",
   "execution_count": 9,
   "id": "deac6c98-4f70-451b-b3d9-d78ce9fe0e67",
   "metadata": {},
   "outputs": [
    {
     "name": "stdout",
     "output_type": "stream",
     "text": [
      "싱글/멀티2-3 데이터셋 = 100 100 100\n",
      "요약 데이터셋 = 200\n",
      "분류 데이터셋 = 300\n",
      "총합 데이터셋 = 800\n"
     ]
    }
   ],
   "source": [
    "# 정량 평가용 \n",
    "\n",
    "# chat 은 0번방이 모델/평가 인풋 , 1번방은 필요없음\n",
    "# summary 는 0번방이 모델 인풋, 1번방이 평가 인풋, 2번방은 필요없음\n",
    "# sentiment 는  0번방이 모델 인풋, 1번방이 정답 라벨\n",
    "chat_single_test, chat_multi2_test, chat_multi3_test = chat_testset_load() # output은 사실 필요없음\n",
    "summary_test = summary_testset_load() # output은 사실 필요없음, 단 intput은 평가로, instruction은 모델로 해야함. 3개의 값이 필요 \n",
    "sentiment_test = sentiment_testset_load()  # output 필요함\n",
    "\n",
    "print('싱글/멀티2-3 데이터셋 =', len(chat_single_test), len(chat_multi2_test) , len(chat_multi3_test) )\n",
    "print('요약 데이터셋 =', len(summary_test) )\n",
    "print('분류 데이터셋 =', len(sentiment_test) )\n",
    "print('총합 데이터셋 =', len(chat_single_test) +  len(chat_multi2_test) + len(chat_multi3_test) + len(summary_test)  +len(sentiment_test) )"
   ]
  },
  {
   "cell_type": "code",
   "execution_count": 10,
   "id": "7191b062-3694-4c15-9718-beba2bb3f60e",
   "metadata": {},
   "outputs": [
    {
     "name": "stderr",
     "output_type": "stream",
     "text": [
      "C:\\Users\\any\\anaconda3\\envs\\oosij\\lib\\site-packages\\transformers\\generation\\configuration_utils.py:430: UserWarning: `num_beams` is set to 1. However, `early_stopping` is set to `True` -- this flag is only used in beam-based generation modes. You should set `num_beams>1` or unset `early_stopping`.\n",
      "  warnings.warn(\n"
     ]
    },
    {
     "name": "stdout",
     "output_type": "stream",
     "text": [
      "답변 소요시간: 1900.5764889717102 초\n"
     ]
    }
   ],
   "source": [
    "# 싱글/멀티 \n",
    "single_test = []\n",
    "multi2_test = []\n",
    "multi3_test = []\n",
    "\n",
    "start = time.time()\n",
    "\n",
    "for x in range(len(chat_single_test)):\n",
    "    text_input = chat_single_test[x][0]\n",
    "    result = inference_output(text_input)\n",
    "    response = result.split('\\n\\n'+data['response_split'])[1]\n",
    "    response = response.replace('<|endoftext|>', '').strip()\n",
    "    single_test.append(response)\n",
    "\n",
    "for x in range(len(chat_multi2_test)):\n",
    "    text_input = chat_multi2_test[x][0]\n",
    "    result = inference_output(text_input)\n",
    "    response = result.split('\\n\\n'+data['response_split'])[1]\n",
    "    response = response.replace('<|endoftext|>', '').strip()\n",
    "    multi2_test.append(response)\n",
    "\n",
    "for x in range(len(chat_multi3_test)):\n",
    "    text_input = chat_multi3_test[x][0]\n",
    "    result = inference_output(text_input)\n",
    "    response = result.split('\\n\\n'+data['response_split'])[1]\n",
    "    response = response.replace('<|endoftext|>', '').strip()\n",
    "    multi3_test.append(response)\n",
    "\n",
    "print(\"답변 소요시간: {} 초\".format(time.time() - start))  # 현재시각 - 시작시간 = 실행 시간"
   ]
  },
  {
   "cell_type": "code",
   "execution_count": null,
   "id": "c7a2e098-3bee-4dbe-b75b-7ac45186283d",
   "metadata": {},
   "outputs": [],
   "source": []
  },
  {
   "cell_type": "code",
   "execution_count": 11,
   "id": "2ca18839-521c-4fe5-bdb2-a0ece11e0922",
   "metadata": {},
   "outputs": [
    {
     "name": "stdout",
     "output_type": "stream",
     "text": [
      "답변 소요시간: 2487.0515520572662 초\n"
     ]
    }
   ],
   "source": [
    "# 요약 \n",
    "s_test = []\n",
    "\n",
    "start = time.time()\n",
    "\n",
    "for x in range(len(summary_test)):\n",
    "    text_input = summary_test[x][0]\n",
    "    result = inference_output(text_input)\n",
    "    response = result.split('\\n\\n'+data['response_split'])[1]\n",
    "    response = response.replace('<|endoftext|>', '').strip()\n",
    "    s_test.append(response)\n",
    "\n",
    "print(\"답변 소요시간: {} 초\".format(time.time() - start))  # 현재시각 - 시작시간 = 실행 시간"
   ]
  },
  {
   "cell_type": "code",
   "execution_count": 21,
   "id": "33c67e74-fd65-443a-b215-3656e47c2fc7",
   "metadata": {},
   "outputs": [
    {
     "data": {
      "text/plain": [
       "'방탄소년단(BTS)의 ‘다이너마이트’가 콘서트 한 번 없이 온라인 소통만으로 온라인 소통만으로 빌보드 핫100에서 2주간 1위를 차지했다. ‘킹덤’·‘싸이코지만 괜찮아’ 등 한국드라마도 인터넷 동영상 서비스(OTT)를 통해 코로나19 속에서 전 세계의 사랑을 받고 있다. 비대면 시대의 한류는 새로운 기술을 통해 멋진 문화적 만남을 이어주고 있다.'"
      ]
     },
     "execution_count": 21,
     "metadata": {},
     "output_type": "execute_result"
    }
   ],
   "source": [
    "s_test[0]"
   ]
  },
  {
   "cell_type": "code",
   "execution_count": 12,
   "id": "4ca2772b-6c8e-4177-af33-4fa9cde2e105",
   "metadata": {},
   "outputs": [
    {
     "name": "stdout",
     "output_type": "stream",
     "text": [
      "              precision    recall  f1-score   support\n",
      "\n",
      "           0       0.87      0.94      0.90       100\n",
      "           1       0.86      0.70      0.77       100\n",
      "           2       0.81      0.90      0.85       100\n",
      "\n",
      "    accuracy                           0.85       300\n",
      "   macro avg       0.85      0.85      0.84       300\n",
      "weighted avg       0.85      0.85      0.84       300\n",
      "\n",
      "답변 소요시간: 172.30595350265503 초\n"
     ]
    }
   ],
   "source": [
    "# 분류 \n",
    "#X_test = '리스트 타입의 300개의 분류 인풋'\n",
    "#y_test = '리스트 타입의 평가 데이터셋 300개 정답 아웃풋'\n",
    "#y_pred = '모델 아웃풋'\n",
    "y_pred = []\n",
    "y_test = []\n",
    "\n",
    "start = time.time()\n",
    "\n",
    "# 예측 라벨 \n",
    "for x in range(len(sentiment_test)):\n",
    "    text_input = sentiment_test[x][0]\n",
    "    result = inference_output(text_input)\n",
    "    response = result.split('\\n\\n'+data['response_split'])[1]\n",
    "    response = response.replace('<|endoftext|>', '').strip()\n",
    "    if response == '긍정':\n",
    "        response = 2\n",
    "    if response == '중립':\n",
    "        response = 1\n",
    "    if response == '부정':\n",
    "        response = 0\n",
    "    y_pred.append(response)\n",
    "\n",
    "# 정답 라벨\n",
    "for y in range(len(sentiment_test)):\n",
    "    y_label = sentiment_test[y][1]\n",
    "    y_test.append(y_label)\n",
    "\n",
    "#print(classification_report(y_test, y_pred))\n",
    "\n",
    "# 예측 결과와 실제 라벨을 매핑하는 딕셔너리\n",
    "label_mapping = {0: '부정', 1: '중립', 2: '긍정'}\n",
    "\n",
    "# 실제 라벨을 부정, 중립, 긍정으로 변환\n",
    "y_test_mapped = [label_mapping[label] for label in y_test]\n",
    "y_pred_mapped = [label_mapping[label] for label in y_pred\n",
    "\n",
    "print(classification_report(y_test_mapped, y_pred_mapped))\n",
    "\n",
    "print(\"답변 소요시간: {} 초\".format(time.time() - start))  # 현재시각 - 시작시간 = 실행 시간"
   ]
  },
  {
   "cell_type": "code",
   "execution_count": null,
   "id": "cc409a6b-2b31-4d5f-a468-ba370da5c1d4",
   "metadata": {},
   "outputs": [],
   "source": []
  },
  {
   "cell_type": "code",
   "execution_count": 42,
   "id": "107d7a93-9cb7-43a2-ad13-f484941269e0",
   "metadata": {},
   "outputs": [],
   "source": [
    "## 백업을 위한 저장 \n",
    "\n",
    "test_dir = './test/'\n",
    "test_name = 'chat_single'  # summary,  chat_single, chat_multi2, chat_multi3\n",
    "\n",
    "\n",
    "# 파일로 저장\n",
    "#with open(test_dir + 'summary_testset_240223.json', 'w', encoding='utf-8') as f:\n",
    "#    json.dump(s_test, f, ensure_ascii=False, indent=4)\n",
    "\n",
    "\n",
    "# 불러오기\n",
    "with open(test_dir + test_name  + '_testset_240223.json', 'r', encoding='utf-8') as f:\n",
    "    loaded_output_list = json.load(f)"
   ]
  },
  {
   "cell_type": "code",
   "execution_count": 11,
   "id": "b0adefca-5ead-4bdf-b899-c33726d16947",
   "metadata": {},
   "outputs": [],
   "source": [
    "s_test = loaded_output_list"
   ]
  },
  {
   "cell_type": "code",
   "execution_count": null,
   "id": "15ab808c-6e3b-4341-8746-c0290d528c76",
   "metadata": {},
   "outputs": [],
   "source": []
  },
  {
   "cell_type": "code",
   "execution_count": null,
   "id": "78b1b936-0e28-4a7d-8438-81e493045a5b",
   "metadata": {},
   "outputs": [],
   "source": [
    "# GPT 4 기반 테스팅 (G-Eval)"
   ]
  },
  {
   "cell_type": "code",
   "execution_count": 30,
   "id": "700dd62a-966b-41d4-848a-87db9d089b76",
   "metadata": {},
   "outputs": [],
   "source": [
    "with open('./templates/chat_test.txt', 'r',  encoding='utf-8') as file:\n",
    "    file_contents = file.read()"
   ]
  },
  {
   "cell_type": "code",
   "execution_count": 31,
   "id": "67bfc745-c717-4d5f-b19a-0dd654c9ea68",
   "metadata": {
    "scrolled": true
   },
   "outputs": [
    {
     "name": "stdout",
     "output_type": "stream",
     "text": [
      "두 사람 간의 대화가 주어집니다. 다음의 지시문(Instruction)을 받게 될 것입니다. 지시문은 이전 대화내용을 포함하며 현재 대화에 대한 응답(Response)이 제시됩니다.\n",
      "당신의 작업은 응답을 평가 단계에 따라 응답을 평가하는 것입니다. \n",
      "이 평가 기준을 꼼꼼히 읽고 이해하는 것이 중요합니다. 평가하는 동안 이 문서를 계속 열어두고 필요할 때 참조해 주세요. \n",
      "\n",
      "평가 기준:\n",
      "- 이해 가능성 (0 - 1): Instruction에 기반하여 Response를 이해 할 수 있나요?\n",
      "- 자연스러움 (1 - 5): 사람이 자연스럽게 말할 법한 Instruction 인가요?\n",
      "- 맥락 유지 (1 - 5): Instruction을 고려했을 때 Response가 맥락을 유지하나요?\n",
      "- 흥미롭기 (1 - 5): Response가 지루한가요, 아니면 흥미로운가요?\n",
      "- Instruction 사용 (0 - 1): Instruction에 기반하여 Response를 생성 했나요?\n",
      "- 공감 능력 (0 - 1): Response에 Instruction의 내용에 기반한 공감의 내용이 있나요?\n",
      "- 대화 유도 (0 - 1): Response에 질문을 포함하여 사용자의 대답을 자연스럽게 유도하고 있나요?\n",
      "- 전반적인 품질 (1 - 10): 위의 답변을 바탕으로 이 발언의 전반적인 품질에 대한 인상은 어떤가요?\n",
      "\n",
      "평가 단계:\n",
      "1. Instruction, 그리고 Response을 주의깊게 읽습니다.\n",
      "2. 위의 평가 기준에 따라 Response을 엄격하게 평가합니다.\n",
      "\n",
      "Instruction:\n",
      "{{instruction}}\n",
      "\n",
      "Response:\n",
      "{{response}}\n",
      "\n",
      "\n",
      "Result\n",
      "- 이해 가능성 (0 - 1):\n",
      "- 자연스러움 (1 - 5):\n",
      "- 맥락 유지 (1 - 5):\n",
      "- 흥미롭기 (1 - 5):\n",
      "- Instruction 사용 (0 - 1):\n",
      "- 공감 능력 (0 - 1):\n",
      "- 대화 유도 (0 - 1): \n",
      "- 전반적인 품질 (1 - 10):\n"
     ]
    }
   ],
   "source": [
    "print(file_contents)"
   ]
  },
  {
   "cell_type": "code",
   "execution_count": 52,
   "id": "f1063145-3b79-4f3b-9052-b2a8be488e3b",
   "metadata": {},
   "outputs": [
    {
     "data": {
      "text/plain": [
       "'이전 대화와 현재 대화의 명령어를 참고하여 가장 적절한 응답을 생성해주세요. 일상적인 대화의 경우, 응답 마지막에는 지금까지의 내용과 관련된 질문을 해주세요.\\n\\n[이전 대화]\\n\\n\\n[현재 대화]\\n### 명령어:\\n영화 보는 것을 좋아해요.\\n\\n### 응답:\\n'"
      ]
     },
     "execution_count": 52,
     "metadata": {},
     "output_type": "execute_result"
    }
   ],
   "source": [
    "chat_single_test[0][0]"
   ]
  },
  {
   "cell_type": "code",
   "execution_count": 64,
   "id": "4ec81958-5ec8-4453-87df-b2cb6bfb284a",
   "metadata": {},
   "outputs": [],
   "source": [
    "loaded_output_list  # 챗봇 명령어 \n",
    "ins_list = chat_single_test # 챗봇 예상 응답 \n",
    "\n",
    "#chat_single_score_list = []\n",
    "chat_multi2_score_list = []\n",
    "chat_multi3_score_list = []\n",
    "\n",
    "for f in range(len(loaded_output_list)):\n",
    "    ints = ins_list[f][0]\n",
    "    res = loaded_output_list[f]   \n",
    "\n",
    "    score_result = chat_test_prompt_gpt(ints, res, gpt_model)\n",
    "    chat_single_score_list.append(score_result)"
   ]
  },
  {
   "cell_type": "code",
   "execution_count": null,
   "id": "45dc6450-a414-40e3-9962-9cd4b3754f11",
   "metadata": {},
   "outputs": [],
   "source": []
  },
  {
   "cell_type": "code",
   "execution_count": 65,
   "id": "9fe7f5b5-8008-46cf-80da-1c15d2305840",
   "metadata": {},
   "outputs": [
    {
     "name": "stdout",
     "output_type": "stream",
     "text": [
      "답변 소요시간: 626.0029437541962 초\n"
     ]
    }
   ],
   "source": [
    "start = time.time()\n",
    "\n",
    "test_dir = './test/'\n",
    "test_name = 'chat_multi2'  # summary,  chat_single, chat_multi2, chat_multi3\n",
    "\n",
    "# 불러오기\n",
    "with open(test_dir + test_name  + '_testset_240223.json', 'r', encoding='utf-8') as f:\n",
    "    loaded_output_list = json.load(f)\n",
    "\n",
    "loaded_output_list  # 챗봇 명령어 \n",
    "ins_list = chat_multi2_test # 챗봇 예상 응답 \n",
    "\n",
    "chat_multi2_score_list = []\n",
    "\n",
    "for f in range(len(loaded_output_list)):\n",
    "    ints = ins_list[f][0]\n",
    "    res = loaded_output_list[f]   \n",
    "\n",
    "    score_result = chat_test_prompt_gpt(ints, res, gpt_model)\n",
    "    chat_multi2_score_list.append(score_result)\n",
    "\n",
    "print(\"답변 소요시간: {} 초\".format(time.time() - start))  # 현재시각 - 시작시간 = 실행 시간"
   ]
  },
  {
   "cell_type": "code",
   "execution_count": null,
   "id": "9fad6218-b6e2-4d52-ae84-31e4fe980035",
   "metadata": {},
   "outputs": [],
   "source": []
  },
  {
   "cell_type": "code",
   "execution_count": 66,
   "id": "0a23583a-c0da-4781-9813-92aac6443dac",
   "metadata": {},
   "outputs": [
    {
     "name": "stdout",
     "output_type": "stream",
     "text": [
      "답변 소요시간: 678.5822367668152 초\n"
     ]
    }
   ],
   "source": [
    "start = time.time()\n",
    "\n",
    "test_dir = './test/'\n",
    "test_name = 'chat_multi3'   # summary,  chat_single, chat_multi2, chat_multi3\n",
    "\n",
    "# 불러오기\n",
    "with open(test_dir + test_name  + '_testset_240223.json', 'r', encoding='utf-8') as f:\n",
    "    loaded_output_list = json.load(f)\n",
    "\n",
    "loaded_output_list  # 챗봇 명령어 \n",
    "ins_list = chat_multi3_test # 챗봇 예상 응답 \n",
    "\n",
    "chat_multi3_score_list = []\n",
    "\n",
    "for f in range(len(loaded_output_list)):\n",
    "    ints = ins_list[f][0]\n",
    "    res = loaded_output_list[f]   \n",
    "\n",
    "    score_result = chat_test_prompt_gpt(ints, res, gpt_model)\n",
    "    chat_multi3_score_list.append(score_result)\n",
    "\n",
    "print(\"답변 소요시간: {} 초\".format(time.time() - start))  # 현재시각 - 시작시간 = 실행 시간"
   ]
  },
  {
   "cell_type": "code",
   "execution_count": null,
   "id": "ff6711b0-9794-46d5-be80-6263c3057776",
   "metadata": {},
   "outputs": [],
   "source": [
    "### 내일 확인!! ### "
   ]
  },
  {
   "cell_type": "code",
   "execution_count": 81,
   "id": "cc927bac-38a2-4e1f-a9e8-23e389eba3fc",
   "metadata": {},
   "outputs": [
    {
     "data": {
      "text/plain": [
       "(100, 100, 100, 200)"
      ]
     },
     "execution_count": 81,
     "metadata": {},
     "output_type": "execute_result"
    }
   ],
   "source": [
    "len(chat_single_score_list),len(chat_multi2_score_list), len(chat_multi3_score_list), len(summary_score_list)"
   ]
  },
  {
   "cell_type": "code",
   "execution_count": 34,
   "id": "5af86e75-4e1c-4e08-8484-eb3eb30921e7",
   "metadata": {},
   "outputs": [],
   "source": [
    "with open('./templates/summary_test.txt', 'r',  encoding='utf-8') as file:\n",
    "    file_contents = file.read()"
   ]
  },
  {
   "cell_type": "code",
   "execution_count": 35,
   "id": "fc9a9f87-7bfe-456f-96f9-b612fdfac65a",
   "metadata": {
    "scrolled": true
   },
   "outputs": [
    {
     "name": "stdout",
     "output_type": "stream",
     "text": [
      "You will be given one summary written for a news article.\n",
      "\n",
      "Your task is to rate the summary on one metric.\n",
      "\n",
      "Please make sure you read and understand these instructions carefully. Please keep this document open while reviewing, and refer to it as needed.\n",
      "\n",
      "[Coherence (1-5)] \n",
      "Evaluation Criteria:\n",
      "- the collective quality of all sentences. We align this dimension with the DUC quality question of structure and coherence whereby \"the summary should be well-structured and well-organized. The summary should not just be a heap of related information, but should build from sentence to a coherent body of information about a topic.\"\n",
      "\n",
      "Evaluation Steps:\n",
      "1. Read the news article carefully and identify the main topic and key points.\n",
      "2. Read the summary and compare it to the news article. Check if the summary covers the main topic and key points of the news article, and if it presents them in a clear and logical order.\n",
      "3. Assign a score for coherence on a scale of 1 to 5, where 1 is the lowest and 5 is the highest based on the Evaluation Criteria.\n",
      "\n",
      "\n",
      "[Consistency (1-5)]\n",
      "Evaluation Criteria:\n",
      "- the factual alignment between the summary and the summarized source. A factually consistent summary contains only statements that are entailed by the source document. Annotators were also asked to penalize summaries that contained hallucinated facts. \n",
      "\n",
      "Evaluation Steps:\n",
      "1. Read the news article carefully and identify the main facts and details it presents.\n",
      "2. Read the summary and compare it to the article. Check if the summary contains any factual errors that are not supported by the article.\n",
      "3. Assign a score for consistency based on the Evaluation Criteria.\n",
      "\n",
      "[Fluency (1-3)]\n",
      "Evaluation Criteria:\n",
      "- the quality of the summary in terms of grammar, spelling, punctuation, word choice, and sentence structure.\n",
      "\n",
      "- 1: Poor. The summary has many errors that make it hard to understand or sound unnatural.\n",
      "- 2: Fair. The summary has some errors that affect the clarity or smoothness of the text, but the main points are still comprehensible.\n",
      "- 3: Good. The summary has few or no errors and is easy to read and follow.\n",
      "\n",
      "[Relevance (1-5)]\n",
      "Evaluation Criteria:\n",
      "- selection of important content from the source. The summary should include only important information from the source document. Annotators were instructed to penalize summaries which contained redundancies and excess information.\n",
      "\n",
      "Evaluation Steps:\n",
      "1. Read the summary and the source document carefully.\n",
      "2. Compare the summary to the source document and identify the main points of the article.\n",
      "3. Assess how well the summary covers the main points of the article, and how much irrelevant or redundant information it contains.\n",
      "4. Assign a relevance score from 1 to 5.\n",
      "\n",
      "\n",
      "Source Text:\n",
      "\n",
      "방탄소년단(BTS)의 ‘다이너마이트’가 콘서트 한 번 없이 온라인 소통만으로 빌보드 핫100에서 2주간 1위를 차지했다.\n",
      "  ‘킹덤’·‘싸이코지만 괜찮아’ 등 한국드라마도 인터넷 동영상 서비스(OTT)를 통해 코로나19 속에서 전 세계의 사랑을 받고 있다.\n",
      "  비대면 시대의 한류는 새로운 기술을 통해 멋진 문화적 만남을 이어주고 있다.\n",
      "  코로나 시대 문화의 역할은 무엇일까? 사회적 거리두기가 지속됨에 따라 심리적으로 고립된 개인을 따뜻하게 연결하는 것이 문화의 역할이다.\n",
      "  ‘코로나로 집에 갇힌 시간’을 ‘읽지 못했던 책을 읽을 수 있는 시간’으로 그리고 ‘가족과 함께 하는 시간’으로 만들어 주는 것도 또한 문화이다.\n",
      "  멀지 않아 추석이다.\n",
      "  추석 연휴 기간 이동자제 권고에 따라, 우리는 가족과 무엇을 함께하며 즐겁게 보낼 수 있을지를 고민할 것이다.\n",
      "  오는 24일부터 시작되는 ‘즐거운 우리집집콕놀이’ 공모전은 ‘우리 가족만의 놀이문화’를 누리관계망(SNS)을 통해 공유하고 즐기는 좋은 기회가 될 것이다.\n",
      "  미국 타임스지(5.\n",
      " 8)에 따르면 인터넷과 누리관계망(SNS)을 통한 가상연결만으로도 정신건강에 긍정적인 효과가 있다고 한다.\n",
      "  이제 문화는 우리의 몸과 마음을 건강하게 하는 방역이자 백신이기도 하다.\n",
      "  문화는 경제이다.\n",
      "  2000년대 초반까지만 해도 ‘문화가 돈이 될까’ 의구심을 가진 사람이 많았다.\n",
      "  이제는 문화가 대한민국의 브랜드 가치를 높이는 원동력이라는 것을 어느 누구도 부인하지 않는다.\n",
      "  지난해 한국의 문화콘텐츠 수출액은 103억9000만 달러(약 12조 원)에 달하며, 한류는 다시 우리 화장품·의류·식품에 대한 관심으로 이어진다.\n",
      "  비대면 시대가 일상화될 수도 있다.\n",
      "  문체부는 새로운 한류를 위하여 `21년 `디지털 뉴딜`의 일환으로 2677억원을 투입한다.\n",
      "  증강·가상현실(AR·VR)이나 5세대 통신기술 등을 활용한 실험적인 문화·예술 콘텐트가 확대되어 전 세계 한류 공동체를 만들어나갈 것이다.\n",
      "  진정한 한류는 한국어를 사용하는 사람이 많아지고, 한국과 함께 하고자 하는 사람이 늘어나는 것이다.\n",
      "  ‘세종학당’을 통해 76개국 213개소에서 7만5000여 명의 외국인들이 한국어를 익히고 있다.\n",
      "  이들이 어느 기업에서 일하고 무엇을 좋아할지는 충분히 상상할 수 있지 않겠는가.\n",
      "  문체부는 교육부·외교부와 함께 해외 현지에서 한국어 교육이 지속적으로 이루어지도록 교원을 파견하고 교재를 개발하고 있다.\n",
      "\n",
      "Summary:\n",
      "\n",
      "{{Summary}}\n",
      "\n",
      "\n",
      "Evaluation Form (scores ONLY):\n",
      "- Coherence:\n",
      "- Consistency:\n",
      "- Fluency (1-3):\n",
      "- Relevance:\n"
     ]
    }
   ],
   "source": [
    "file_contents.replace('{{Document}}', doc)"
   ]
  },
  {
   "cell_type": "code",
   "execution_count": null,
   "id": "153567fd-b724-4385-9b54-94b48fb0ea2d",
   "metadata": {},
   "outputs": [],
   "source": []
  },
  {
   "cell_type": "code",
   "execution_count": 13,
   "id": "87a14fdb-5076-4796-a0af-f01a1e4c63b5",
   "metadata": {},
   "outputs": [
    {
     "name": "stdout",
     "output_type": "stream",
     "text": [
      "비대면 시대의 한류는 새로운 기술을 통해 멋진 문화적 만남을 이어주고 있다. 미국 타임스지(5. 8)에 따르면 인터넷과 누리관계망(SNS)을 통한 가상연결만으로도 정신건강에 긍정적인 효과가 있다고 한다. 이제는 문화가 대한민국의 브랜드 가치를 높이는 원동력이라는 것을 어느 누구도 부인하지 않는다.\n"
     ]
    }
   ],
   "source": [
    "print(summary_test[0][2])"
   ]
  },
  {
   "cell_type": "code",
   "execution_count": 12,
   "id": "0d70a60e-a3b6-4ac7-82cf-988ae20589a7",
   "metadata": {},
   "outputs": [
    {
     "data": {
      "text/plain": [
       "200"
      ]
     },
     "execution_count": 12,
     "metadata": {},
     "output_type": "execute_result"
    }
   ],
   "source": [
    "len(summary_test)"
   ]
  },
  {
   "cell_type": "code",
   "execution_count": 14,
   "id": "91098c6a-1312-4c8e-a1e9-89f4a440389a",
   "metadata": {},
   "outputs": [
    {
     "data": {
      "text/plain": [
       "'‘킹덤’·‘싸이코지만 괜찮아’ 등 한국드라마도 인터넷 동영상 서비스(OTT)를 통해 코로나19 속에서 전 세계의 사랑을 받고 있다. 비대면 시대의 한류는 새로운 기술을 통해 멋진 문화적 만남을 이어주고 있다.'"
      ]
     },
     "execution_count": 14,
     "metadata": {},
     "output_type": "execute_result"
    }
   ],
   "source": [
    "s_test[0]"
   ]
  },
  {
   "cell_type": "code",
   "execution_count": 41,
   "id": "f3c7ec0d-c1d3-4229-b7bb-6068238810b3",
   "metadata": {
    "scrolled": true
   },
   "outputs": [],
   "source": [
    "# summary_test   0번방 : 명령어,   1번방 : 문서 ,  2번방, 정답 요약\n",
    "# s_test         예측 요약\n",
    "\n",
    "summary_score_list = []\n",
    "\n",
    "for f in range(len(summary_test)): # 200\n",
    "    doc = summary_test[f][1] # 문서 \n",
    "    summary = s_test[f] # 예측 요약\n",
    "    score_result = summary_test_prompt_gpt(doc, summary, gpt_model)\n",
    "    #file_contents.format(Document = , Summary = )\n",
    "    summary_score_list.append(score_result)"
   ]
  },
  {
   "cell_type": "code",
   "execution_count": 82,
   "id": "7f2604b6-310f-4f43-bee0-deeabcee50a4",
   "metadata": {},
   "outputs": [
    {
     "name": "stdout",
     "output_type": "stream",
     "text": [
      "- Coherence: 3\n",
      "- Consistency: 5\n",
      "- Fluency (1-3): 3\n",
      "- Relevance: 3\n"
     ]
    }
   ],
   "source": [
    "print(summary_score_list[0])"
   ]
  },
  {
   "cell_type": "code",
   "execution_count": 15,
   "id": "04c93090-c322-4eab-8244-d11926ca745a",
   "metadata": {},
   "outputs": [
    {
     "name": "stdout",
     "output_type": "stream",
     "text": [
      "- Coherence: \n",
      "- Consistency: \n",
      "- Fluency (1-3): \n",
      "- Relevance:\n"
     ]
    }
   ],
   "source": [
    "print(summary_score_list[0])"
   ]
  },
  {
   "cell_type": "code",
   "execution_count": null,
   "id": "ab57131d-7a5b-4cd6-a810-5010c52de8af",
   "metadata": {},
   "outputs": [],
   "source": []
  },
  {
   "cell_type": "code",
   "execution_count": 89,
   "id": "c177f4c7-8142-4087-a78a-4873db26e7c3",
   "metadata": {},
   "outputs": [],
   "source": [
    "#output_list = chat_single_score_list  \n",
    "#output_list = chat_multi2_score_list \n",
    "#output_list = chat_multi3_score_list \n",
    "output_list = summary_score_list "
   ]
  },
  {
   "cell_type": "code",
   "execution_count": 90,
   "id": "63bf9ac8-d0cd-4a9a-b883-9d8e9c417585",
   "metadata": {},
   "outputs": [
    {
     "name": "stdout",
     "output_type": "stream",
     "text": [
      "./test/summary_result_240223.json\n"
     ]
    }
   ],
   "source": [
    "## 백업을 위한 저장  -> 전체 결과 저장 \n",
    "\n",
    "test_dir = './test/'\n",
    "#test_name = 'chat_single'\n",
    "#test_name = 'chat_multi2'\n",
    "#test_name = 'chat_multi3'\n",
    "test_name = 'summary'\n",
    "\n",
    "\n",
    "# 파일로 저장\n",
    "with open(test_dir + test_name + '_result_240223.json', 'w', encoding='utf-8') as f:\n",
    "    json.dump(output_list, f, ensure_ascii=False, indent=4)\n",
    "    \n",
    "print(test_dir + test_name + '_result_240223.json')\n",
    "    \n",
    "# 불러오기\n",
    "#with open(test_dir + 'result_240223.json', 'r', encoding='utf-8') as f:\n",
    "#    loaded_output_list = json.load(f)"
   ]
  },
  {
   "cell_type": "code",
   "execution_count": 141,
   "id": "bbe4c62a-79a5-4c47-89e7-bacc2472a260",
   "metadata": {},
   "outputs": [],
   "source": [
    "# - Coherence:\n",
    "# - Consistency:\n",
    "# - Fluency (1-3):\n",
    "# - Relevance:\n",
    "\n",
    "stop_list =  ['- Coherence:', '- Consistency:', '- Fluency (1-3):', '- Relevance:' ]\n",
    "\n",
    "total_summary_score_list = []\n",
    "\n",
    "for s in range(len(summary_score_list)):\n",
    "    split_score = summary_score_list[s].split('\\n')\n",
    "    score_list = []\n",
    "    for j in range(len(split_score)):\n",
    "        clean_score =split_score[j].replace(stop_list[j], '')\n",
    "        clean_score = float(clean_score.strip())\n",
    "        score_list.append(clean_score)\n",
    "    total_summary_score_list.append(score_list)"
   ]
  },
  {
   "cell_type": "code",
   "execution_count": 142,
   "id": "e2f5bd64-5942-4a2c-8313-6d7227e55a3f",
   "metadata": {},
   "outputs": [
    {
     "data": {
      "text/plain": [
       "[[3.0, 5.0, 3.0, 3.0],\n",
       " [2.0, 3.0, 3.0, 2.0],\n",
       " [5.0, 5.0, 3.0, 5.0],\n",
       " [4.0, 5.0, 3.0, 4.0],\n",
       " [4.0, 5.0, 3.0, 4.0],\n",
       " [4.0, 5.0, 3.0, 4.0],\n",
       " [2.0, 3.0, 3.0, 2.0],\n",
       " [5.0, 5.0, 3.0, 5.0],\n",
       " [5.0, 5.0, 3.0, 5.0],\n",
       " [5.0, 5.0, 3.0, 5.0]]"
      ]
     },
     "execution_count": 142,
     "metadata": {},
     "output_type": "execute_result"
    }
   ],
   "source": [
    "total_summary_score_list[:10]"
   ]
  },
  {
   "cell_type": "code",
   "execution_count": 143,
   "id": "ee8ef88c-fa17-475a-a74c-277b84de94b4",
   "metadata": {},
   "outputs": [
    {
     "data": {
      "text/html": [
       "<div>\n",
       "<style scoped>\n",
       "    .dataframe tbody tr th:only-of-type {\n",
       "        vertical-align: middle;\n",
       "    }\n",
       "\n",
       "    .dataframe tbody tr th {\n",
       "        vertical-align: top;\n",
       "    }\n",
       "\n",
       "    .dataframe thead th {\n",
       "        text-align: right;\n",
       "    }\n",
       "</style>\n",
       "<table border=\"1\" class=\"dataframe\">\n",
       "  <thead>\n",
       "    <tr style=\"text-align: right;\">\n",
       "      <th></th>\n",
       "      <th>- Coherence:</th>\n",
       "      <th>- Consistency:</th>\n",
       "      <th>- Fluency (1-3):</th>\n",
       "      <th>- Relevance:</th>\n",
       "    </tr>\n",
       "  </thead>\n",
       "  <tbody>\n",
       "    <tr>\n",
       "      <th>0</th>\n",
       "      <td>3.0</td>\n",
       "      <td>5.0</td>\n",
       "      <td>3.0</td>\n",
       "      <td>3.0</td>\n",
       "    </tr>\n",
       "    <tr>\n",
       "      <th>1</th>\n",
       "      <td>2.0</td>\n",
       "      <td>3.0</td>\n",
       "      <td>3.0</td>\n",
       "      <td>2.0</td>\n",
       "    </tr>\n",
       "    <tr>\n",
       "      <th>2</th>\n",
       "      <td>5.0</td>\n",
       "      <td>5.0</td>\n",
       "      <td>3.0</td>\n",
       "      <td>5.0</td>\n",
       "    </tr>\n",
       "    <tr>\n",
       "      <th>3</th>\n",
       "      <td>4.0</td>\n",
       "      <td>5.0</td>\n",
       "      <td>3.0</td>\n",
       "      <td>4.0</td>\n",
       "    </tr>\n",
       "    <tr>\n",
       "      <th>4</th>\n",
       "      <td>4.0</td>\n",
       "      <td>5.0</td>\n",
       "      <td>3.0</td>\n",
       "      <td>4.0</td>\n",
       "    </tr>\n",
       "    <tr>\n",
       "      <th>...</th>\n",
       "      <td>...</td>\n",
       "      <td>...</td>\n",
       "      <td>...</td>\n",
       "      <td>...</td>\n",
       "    </tr>\n",
       "    <tr>\n",
       "      <th>195</th>\n",
       "      <td>3.0</td>\n",
       "      <td>5.0</td>\n",
       "      <td>3.0</td>\n",
       "      <td>3.0</td>\n",
       "    </tr>\n",
       "    <tr>\n",
       "      <th>196</th>\n",
       "      <td>3.0</td>\n",
       "      <td>5.0</td>\n",
       "      <td>3.0</td>\n",
       "      <td>4.0</td>\n",
       "    </tr>\n",
       "    <tr>\n",
       "      <th>197</th>\n",
       "      <td>3.0</td>\n",
       "      <td>5.0</td>\n",
       "      <td>3.0</td>\n",
       "      <td>4.0</td>\n",
       "    </tr>\n",
       "    <tr>\n",
       "      <th>198</th>\n",
       "      <td>2.0</td>\n",
       "      <td>5.0</td>\n",
       "      <td>3.0</td>\n",
       "      <td>2.0</td>\n",
       "    </tr>\n",
       "    <tr>\n",
       "      <th>199</th>\n",
       "      <td>5.0</td>\n",
       "      <td>5.0</td>\n",
       "      <td>3.0</td>\n",
       "      <td>5.0</td>\n",
       "    </tr>\n",
       "  </tbody>\n",
       "</table>\n",
       "<p>200 rows × 4 columns</p>\n",
       "</div>"
      ],
      "text/plain": [
       "     - Coherence:  - Consistency:  - Fluency (1-3):  - Relevance:\n",
       "0             3.0             5.0               3.0           3.0\n",
       "1             2.0             3.0               3.0           2.0\n",
       "2             5.0             5.0               3.0           5.0\n",
       "3             4.0             5.0               3.0           4.0\n",
       "4             4.0             5.0               3.0           4.0\n",
       "..            ...             ...               ...           ...\n",
       "195           3.0             5.0               3.0           3.0\n",
       "196           3.0             5.0               3.0           4.0\n",
       "197           3.0             5.0               3.0           4.0\n",
       "198           2.0             5.0               3.0           2.0\n",
       "199           5.0             5.0               3.0           5.0\n",
       "\n",
       "[200 rows x 4 columns]"
      ]
     },
     "execution_count": 143,
     "metadata": {},
     "output_type": "execute_result"
    }
   ],
   "source": [
    "columns = stop_list\n",
    "\n",
    "df = pd.DataFrame(total_summary_score_list,  columns=columns) \n",
    "df"
   ]
  },
  {
   "cell_type": "code",
   "execution_count": 149,
   "id": "2343d706-8dfc-4a14-b322-755927996bb0",
   "metadata": {},
   "outputs": [
    {
     "name": "stdout",
     "output_type": "stream",
     "text": [
      "각 열의 평균:\n",
      "            - Coherence:  - Consistency:  - Fluency (1-3):  - Relevance:\n",
      "llama2-13b           3.3             4.4               3.0           3.3\n"
     ]
    }
   ],
   "source": [
    "# 각 열의 평균 계산\n",
    "column_means = df.mean().round(1)\n",
    "\n",
    "print(\"각 열의 평균:\")\n",
    "# DataFrame을 transpose하여 출력\n",
    "transposed_df = pd.DataFrame(column_means).transpose()\n",
    "\n",
    "# 칼럼명 추가\n",
    "transposed_df.rename(index={0: 'llama2-13b'}, inplace=True)\n",
    "\n",
    "print(transposed_df)"
   ]
  },
  {
   "cell_type": "code",
   "execution_count": 147,
   "id": "9580d0ca-2471-444f-8125-73d517503c7c",
   "metadata": {},
   "outputs": [
    {
     "name": "stdout",
     "output_type": "stream",
     "text": [
      "- Coherence:        3.3\n",
      "- Consistency:      4.4\n",
      "- Fluency (1-3):    3.0\n",
      "- Relevance:        3.3\n",
      "dtype: float64\n"
     ]
    }
   ],
   "source": [
    "print(column_means.transpose())"
   ]
  },
  {
   "cell_type": "code",
   "execution_count": 107,
   "id": "078b98b1-b31c-41df-915c-b1f72536e3d2",
   "metadata": {},
   "outputs": [
    {
     "name": "stdout",
     "output_type": "stream",
     "text": [
      "- 이해 가능성 (0 - 1): 1\n",
      "- 자연스러움 (1 - 5): 5\n",
      "- 맥락 유지 (1 - 5): 5\n",
      "- 흥미롭기 (1 - 5): 4\n",
      "- Instruction 사용 (0 - 1): 1\n",
      "- 공감 능력 (0 - 1): 1\n",
      "- 대화 유도 (0 - 1): 1\n",
      "- 전반적인 품질 (1 - 10): 9\n"
     ]
    }
   ],
   "source": [
    "print(chat_single_score_list[0])"
   ]
  },
  {
   "cell_type": "code",
   "execution_count": 150,
   "id": "afc7a8de-6a34-4ec7-aae8-fce0dd1b3a40",
   "metadata": {},
   "outputs": [],
   "source": [
    "## 싱글/멀티 평균 구하기 \n",
    "\n",
    "# - 이해 가능성 (0 - 1):\n",
    "# - 자연스러움 (1 - 5):\n",
    "# - 맥락 유지 (1 - 5):\n",
    "# - 흥미롭기 (1 - 5):\n",
    "# - Instruction 사용 (0 - 1):\n",
    "# - 공감 능력 (0 - 1):\n",
    "# - 대화 유도 (0 - 1):\n",
    "# - 전반적인 품질 (1 - 10):\n",
    "\n",
    "chat_score_list = chat_single_score_list\n",
    "\n",
    "stop_list =  ['- 이해 가능성 (0 - 1):', '- 자연스러움 (1 - 5):', '- 맥락 유지 (1 - 5):', '- 흥미롭기 (1 - 5):',\n",
    "             '- Instruction 사용 (0 - 1):', '- 공감 능력 (0 - 1):', '- 대화 유도 (0 - 1):', '- 전반적인 품질 (1 - 10):']\n",
    "\n",
    "total_chat_score_list = []\n",
    "\n",
    "for s in range(len(chat_score_list)):\n",
    "    split_score = chat_score_list[s].split('\\n')\n",
    "    score_list = []\n",
    "    for j in range(len(split_score[:8])):\n",
    "        clean_score =split_score[j].replace(stop_list[j], '')\n",
    "        clean_score = float(clean_score.strip())\n",
    "        score_list.append(clean_score)\n",
    "    total_chat_score_list.append(score_list)"
   ]
  },
  {
   "cell_type": "code",
   "execution_count": 112,
   "id": "402fe197-aee0-4ae4-8875-de301abe4dde",
   "metadata": {},
   "outputs": [
    {
     "data": {
      "text/plain": [
       "['- 이해 가능성 (0 - 1):',\n",
       " '- 자연스러움 (1 - 5):',\n",
       " '- 맥락 유지 (1 - 5):',\n",
       " '- 흥미롭기 (1 - 5):',\n",
       " '- Instruction 사용 (0 - 1):',\n",
       " '- 공감 능력 (0 - 1):',\n",
       " '- 대화 유도 (0 - 1):',\n",
       " '- 전반적인 품질 (1 - 10):']"
      ]
     },
     "execution_count": 112,
     "metadata": {},
     "output_type": "execute_result"
    }
   ],
   "source": [
    "stop_list"
   ]
  },
  {
   "cell_type": "code",
   "execution_count": 151,
   "id": "41df87af-bbb8-4b14-991c-44bf66401951",
   "metadata": {},
   "outputs": [
    {
     "data": {
      "text/plain": [
       "100"
      ]
     },
     "execution_count": 151,
     "metadata": {},
     "output_type": "execute_result"
    }
   ],
   "source": [
    "len(total_chat_score_list)"
   ]
  },
  {
   "cell_type": "code",
   "execution_count": 152,
   "id": "3e40fc9e-be58-494c-8c46-af20f1a41341",
   "metadata": {},
   "outputs": [
    {
     "data": {
      "text/html": [
       "<div>\n",
       "<style scoped>\n",
       "    .dataframe tbody tr th:only-of-type {\n",
       "        vertical-align: middle;\n",
       "    }\n",
       "\n",
       "    .dataframe tbody tr th {\n",
       "        vertical-align: top;\n",
       "    }\n",
       "\n",
       "    .dataframe thead th {\n",
       "        text-align: right;\n",
       "    }\n",
       "</style>\n",
       "<table border=\"1\" class=\"dataframe\">\n",
       "  <thead>\n",
       "    <tr style=\"text-align: right;\">\n",
       "      <th></th>\n",
       "      <th>- 이해 가능성 (0 - 1):</th>\n",
       "      <th>- 자연스러움 (1 - 5):</th>\n",
       "      <th>- 맥락 유지 (1 - 5):</th>\n",
       "      <th>- 흥미롭기 (1 - 5):</th>\n",
       "      <th>- Instruction 사용 (0 - 1):</th>\n",
       "      <th>- 공감 능력 (0 - 1):</th>\n",
       "      <th>- 대화 유도 (0 - 1):</th>\n",
       "      <th>- 전반적인 품질 (1 - 10):</th>\n",
       "    </tr>\n",
       "  </thead>\n",
       "  <tbody>\n",
       "    <tr>\n",
       "      <th>0</th>\n",
       "      <td>1.0</td>\n",
       "      <td>5.0</td>\n",
       "      <td>5.0</td>\n",
       "      <td>4.0</td>\n",
       "      <td>1.0</td>\n",
       "      <td>1.0</td>\n",
       "      <td>1.0</td>\n",
       "      <td>9.0</td>\n",
       "    </tr>\n",
       "    <tr>\n",
       "      <th>1</th>\n",
       "      <td>1.0</td>\n",
       "      <td>5.0</td>\n",
       "      <td>5.0</td>\n",
       "      <td>4.0</td>\n",
       "      <td>1.0</td>\n",
       "      <td>1.0</td>\n",
       "      <td>1.0</td>\n",
       "      <td>9.0</td>\n",
       "    </tr>\n",
       "    <tr>\n",
       "      <th>2</th>\n",
       "      <td>1.0</td>\n",
       "      <td>5.0</td>\n",
       "      <td>5.0</td>\n",
       "      <td>4.0</td>\n",
       "      <td>1.0</td>\n",
       "      <td>1.0</td>\n",
       "      <td>1.0</td>\n",
       "      <td>9.0</td>\n",
       "    </tr>\n",
       "    <tr>\n",
       "      <th>3</th>\n",
       "      <td>1.0</td>\n",
       "      <td>5.0</td>\n",
       "      <td>5.0</td>\n",
       "      <td>4.0</td>\n",
       "      <td>1.0</td>\n",
       "      <td>1.0</td>\n",
       "      <td>1.0</td>\n",
       "      <td>9.0</td>\n",
       "    </tr>\n",
       "    <tr>\n",
       "      <th>4</th>\n",
       "      <td>1.0</td>\n",
       "      <td>5.0</td>\n",
       "      <td>5.0</td>\n",
       "      <td>4.0</td>\n",
       "      <td>1.0</td>\n",
       "      <td>1.0</td>\n",
       "      <td>1.0</td>\n",
       "      <td>9.0</td>\n",
       "    </tr>\n",
       "    <tr>\n",
       "      <th>...</th>\n",
       "      <td>...</td>\n",
       "      <td>...</td>\n",
       "      <td>...</td>\n",
       "      <td>...</td>\n",
       "      <td>...</td>\n",
       "      <td>...</td>\n",
       "      <td>...</td>\n",
       "      <td>...</td>\n",
       "    </tr>\n",
       "    <tr>\n",
       "      <th>95</th>\n",
       "      <td>1.0</td>\n",
       "      <td>5.0</td>\n",
       "      <td>5.0</td>\n",
       "      <td>4.0</td>\n",
       "      <td>1.0</td>\n",
       "      <td>1.0</td>\n",
       "      <td>1.0</td>\n",
       "      <td>9.0</td>\n",
       "    </tr>\n",
       "    <tr>\n",
       "      <th>96</th>\n",
       "      <td>1.0</td>\n",
       "      <td>5.0</td>\n",
       "      <td>5.0</td>\n",
       "      <td>4.0</td>\n",
       "      <td>1.0</td>\n",
       "      <td>1.0</td>\n",
       "      <td>1.0</td>\n",
       "      <td>9.0</td>\n",
       "    </tr>\n",
       "    <tr>\n",
       "      <th>97</th>\n",
       "      <td>1.0</td>\n",
       "      <td>5.0</td>\n",
       "      <td>5.0</td>\n",
       "      <td>4.0</td>\n",
       "      <td>1.0</td>\n",
       "      <td>1.0</td>\n",
       "      <td>1.0</td>\n",
       "      <td>9.0</td>\n",
       "    </tr>\n",
       "    <tr>\n",
       "      <th>98</th>\n",
       "      <td>1.0</td>\n",
       "      <td>5.0</td>\n",
       "      <td>5.0</td>\n",
       "      <td>4.0</td>\n",
       "      <td>1.0</td>\n",
       "      <td>1.0</td>\n",
       "      <td>1.0</td>\n",
       "      <td>9.0</td>\n",
       "    </tr>\n",
       "    <tr>\n",
       "      <th>99</th>\n",
       "      <td>1.0</td>\n",
       "      <td>5.0</td>\n",
       "      <td>5.0</td>\n",
       "      <td>4.0</td>\n",
       "      <td>1.0</td>\n",
       "      <td>1.0</td>\n",
       "      <td>1.0</td>\n",
       "      <td>9.0</td>\n",
       "    </tr>\n",
       "  </tbody>\n",
       "</table>\n",
       "<p>100 rows × 8 columns</p>\n",
       "</div>"
      ],
      "text/plain": [
       "    - 이해 가능성 (0 - 1):  - 자연스러움 (1 - 5):  - 맥락 유지 (1 - 5):  - 흥미롭기 (1 - 5):  \\\n",
       "0                 1.0               5.0               5.0              4.0   \n",
       "1                 1.0               5.0               5.0              4.0   \n",
       "2                 1.0               5.0               5.0              4.0   \n",
       "3                 1.0               5.0               5.0              4.0   \n",
       "4                 1.0               5.0               5.0              4.0   \n",
       "..                ...               ...               ...              ...   \n",
       "95                1.0               5.0               5.0              4.0   \n",
       "96                1.0               5.0               5.0              4.0   \n",
       "97                1.0               5.0               5.0              4.0   \n",
       "98                1.0               5.0               5.0              4.0   \n",
       "99                1.0               5.0               5.0              4.0   \n",
       "\n",
       "    - Instruction 사용 (0 - 1):  - 공감 능력 (0 - 1):  - 대화 유도 (0 - 1):  \\\n",
       "0                         1.0               1.0               1.0   \n",
       "1                         1.0               1.0               1.0   \n",
       "2                         1.0               1.0               1.0   \n",
       "3                         1.0               1.0               1.0   \n",
       "4                         1.0               1.0               1.0   \n",
       "..                        ...               ...               ...   \n",
       "95                        1.0               1.0               1.0   \n",
       "96                        1.0               1.0               1.0   \n",
       "97                        1.0               1.0               1.0   \n",
       "98                        1.0               1.0               1.0   \n",
       "99                        1.0               1.0               1.0   \n",
       "\n",
       "    - 전반적인 품질 (1 - 10):  \n",
       "0                   9.0  \n",
       "1                   9.0  \n",
       "2                   9.0  \n",
       "3                   9.0  \n",
       "4                   9.0  \n",
       "..                  ...  \n",
       "95                  9.0  \n",
       "96                  9.0  \n",
       "97                  9.0  \n",
       "98                  9.0  \n",
       "99                  9.0  \n",
       "\n",
       "[100 rows x 8 columns]"
      ]
     },
     "execution_count": 152,
     "metadata": {},
     "output_type": "execute_result"
    }
   ],
   "source": [
    "columns = stop_list\n",
    "\n",
    "df = pd.DataFrame(total_chat_score_list,  columns=columns) \n",
    "df"
   ]
  },
  {
   "cell_type": "code",
   "execution_count": 163,
   "id": "e529a12c-be9d-4976-b192-31dae8893550",
   "metadata": {},
   "outputs": [
    {
     "name": "stdout",
     "output_type": "stream",
     "text": [
      " - 이해 가능성 (0 - 1):  - 자연스러움 (1 - 5):  - 맥락 유지 (1 - 5):  - 흥미롭기 (1 - 5):  - Instruction 사용 (0 - 1):  - 공감 능력 (0 - 1):  - 대화 유도 (0 - 1):  - 전반적인 품질 (1 - 10):\n",
      "               1.0               5.0               5.0              4.0                        1.0               1.0               1.0                  9.0\n"
     ]
    }
   ],
   "source": [
    "# 각 열의 평균 계산\n",
    "column_means = df.mean().round(1)\n",
    "\n",
    "# DataFrame을 transpose하여 출력\n",
    "transposed_df = pd.DataFrame(column_means).transpose()\n",
    "\n",
    "# 출력\n",
    "print(transposed_df.to_string(index=False))"
   ]
  },
  {
   "cell_type": "code",
   "execution_count": 133,
   "id": "5b0dfe2d-6c9f-40d7-a98f-1bee1d0363cc",
   "metadata": {},
   "outputs": [],
   "source": [
    "## 싱글/멀티 평균 구하기 \n",
    "\n",
    "# - 이해 가능성 (0 - 1):\n",
    "# - 자연스러움 (1 - 5):\n",
    "# - 맥락 유지 (1 - 5):\n",
    "# - 흥미롭기 (1 - 5):\n",
    "# - Instruction 사용 (0 - 1):\n",
    "# - 공감 능력 (0 - 1):\n",
    "# - 대화 유도 (0 - 1):\n",
    "# - 전반적인 품질 (1 - 10):\n",
    "\n",
    "chat_score_list = chat_multi2_score_list\n",
    "\n",
    "stop_list =  ['- 이해 가능성 (0 - 1):', '- 자연스러움 (1 - 5):', '- 맥락 유지 (1 - 5):', '- 흥미롭기 (1 - 5):',\n",
    "             '- Instruction 사용 (0 - 1):', '- 공감 능력 (0 - 1):', '- 대화 유도 (0 - 1):', '- 전반적인 품질 (1 - 10):']\n",
    "\n",
    "total_chat_score_list = []\n",
    "\n",
    "for s in range(len(chat_score_list)):\n",
    "    split_score = chat_score_list[s].split('\\n')\n",
    "    score_list = []\n",
    "    for j in range(len(split_score[:8])):\n",
    "        clean_score =split_score[j].replace(stop_list[j], '')\n",
    "        clean_score = float(clean_score.strip())\n",
    "        score_list.append(clean_score)\n",
    "    total_chat_score_list.append(score_list)"
   ]
  },
  {
   "cell_type": "code",
   "execution_count": 134,
   "id": "50ab1ccd-93a0-4715-8999-927bb0c2c7df",
   "metadata": {},
   "outputs": [
    {
     "data": {
      "text/plain": [
       "100"
      ]
     },
     "execution_count": 134,
     "metadata": {},
     "output_type": "execute_result"
    }
   ],
   "source": [
    "len(total_chat_score_list)"
   ]
  },
  {
   "cell_type": "code",
   "execution_count": 135,
   "id": "53c25db7-257f-46b5-872b-2b73f38237e6",
   "metadata": {},
   "outputs": [
    {
     "data": {
      "text/html": [
       "<div>\n",
       "<style scoped>\n",
       "    .dataframe tbody tr th:only-of-type {\n",
       "        vertical-align: middle;\n",
       "    }\n",
       "\n",
       "    .dataframe tbody tr th {\n",
       "        vertical-align: top;\n",
       "    }\n",
       "\n",
       "    .dataframe thead th {\n",
       "        text-align: right;\n",
       "    }\n",
       "</style>\n",
       "<table border=\"1\" class=\"dataframe\">\n",
       "  <thead>\n",
       "    <tr style=\"text-align: right;\">\n",
       "      <th></th>\n",
       "      <th>- 이해 가능성 (0 - 1):</th>\n",
       "      <th>- 자연스러움 (1 - 5):</th>\n",
       "      <th>- 맥락 유지 (1 - 5):</th>\n",
       "      <th>- 흥미롭기 (1 - 5):</th>\n",
       "      <th>- Instruction 사용 (0 - 1):</th>\n",
       "      <th>- 공감 능력 (0 - 1):</th>\n",
       "      <th>- 대화 유도 (0 - 1):</th>\n",
       "      <th>- 전반적인 품질 (1 - 10):</th>\n",
       "    </tr>\n",
       "  </thead>\n",
       "  <tbody>\n",
       "    <tr>\n",
       "      <th>0</th>\n",
       "      <td>1.0</td>\n",
       "      <td>5.0</td>\n",
       "      <td>5.0</td>\n",
       "      <td>4.0</td>\n",
       "      <td>1.0</td>\n",
       "      <td>1.0</td>\n",
       "      <td>1.0</td>\n",
       "      <td>9.0</td>\n",
       "    </tr>\n",
       "    <tr>\n",
       "      <th>1</th>\n",
       "      <td>1.0</td>\n",
       "      <td>5.0</td>\n",
       "      <td>5.0</td>\n",
       "      <td>4.0</td>\n",
       "      <td>1.0</td>\n",
       "      <td>1.0</td>\n",
       "      <td>1.0</td>\n",
       "      <td>9.0</td>\n",
       "    </tr>\n",
       "    <tr>\n",
       "      <th>2</th>\n",
       "      <td>1.0</td>\n",
       "      <td>5.0</td>\n",
       "      <td>5.0</td>\n",
       "      <td>4.0</td>\n",
       "      <td>1.0</td>\n",
       "      <td>1.0</td>\n",
       "      <td>1.0</td>\n",
       "      <td>9.0</td>\n",
       "    </tr>\n",
       "    <tr>\n",
       "      <th>3</th>\n",
       "      <td>1.0</td>\n",
       "      <td>5.0</td>\n",
       "      <td>5.0</td>\n",
       "      <td>4.0</td>\n",
       "      <td>1.0</td>\n",
       "      <td>1.0</td>\n",
       "      <td>1.0</td>\n",
       "      <td>9.0</td>\n",
       "    </tr>\n",
       "    <tr>\n",
       "      <th>4</th>\n",
       "      <td>1.0</td>\n",
       "      <td>5.0</td>\n",
       "      <td>5.0</td>\n",
       "      <td>4.0</td>\n",
       "      <td>1.0</td>\n",
       "      <td>1.0</td>\n",
       "      <td>0.0</td>\n",
       "      <td>8.5</td>\n",
       "    </tr>\n",
       "    <tr>\n",
       "      <th>...</th>\n",
       "      <td>...</td>\n",
       "      <td>...</td>\n",
       "      <td>...</td>\n",
       "      <td>...</td>\n",
       "      <td>...</td>\n",
       "      <td>...</td>\n",
       "      <td>...</td>\n",
       "      <td>...</td>\n",
       "    </tr>\n",
       "    <tr>\n",
       "      <th>95</th>\n",
       "      <td>1.0</td>\n",
       "      <td>5.0</td>\n",
       "      <td>5.0</td>\n",
       "      <td>4.0</td>\n",
       "      <td>1.0</td>\n",
       "      <td>1.0</td>\n",
       "      <td>1.0</td>\n",
       "      <td>9.0</td>\n",
       "    </tr>\n",
       "    <tr>\n",
       "      <th>96</th>\n",
       "      <td>1.0</td>\n",
       "      <td>5.0</td>\n",
       "      <td>5.0</td>\n",
       "      <td>4.0</td>\n",
       "      <td>1.0</td>\n",
       "      <td>1.0</td>\n",
       "      <td>1.0</td>\n",
       "      <td>9.0</td>\n",
       "    </tr>\n",
       "    <tr>\n",
       "      <th>97</th>\n",
       "      <td>1.0</td>\n",
       "      <td>5.0</td>\n",
       "      <td>5.0</td>\n",
       "      <td>4.0</td>\n",
       "      <td>1.0</td>\n",
       "      <td>1.0</td>\n",
       "      <td>1.0</td>\n",
       "      <td>9.0</td>\n",
       "    </tr>\n",
       "    <tr>\n",
       "      <th>98</th>\n",
       "      <td>1.0</td>\n",
       "      <td>5.0</td>\n",
       "      <td>5.0</td>\n",
       "      <td>4.0</td>\n",
       "      <td>1.0</td>\n",
       "      <td>1.0</td>\n",
       "      <td>1.0</td>\n",
       "      <td>9.0</td>\n",
       "    </tr>\n",
       "    <tr>\n",
       "      <th>99</th>\n",
       "      <td>1.0</td>\n",
       "      <td>5.0</td>\n",
       "      <td>5.0</td>\n",
       "      <td>4.0</td>\n",
       "      <td>1.0</td>\n",
       "      <td>1.0</td>\n",
       "      <td>1.0</td>\n",
       "      <td>9.0</td>\n",
       "    </tr>\n",
       "  </tbody>\n",
       "</table>\n",
       "<p>100 rows × 8 columns</p>\n",
       "</div>"
      ],
      "text/plain": [
       "    - 이해 가능성 (0 - 1):  - 자연스러움 (1 - 5):  - 맥락 유지 (1 - 5):  - 흥미롭기 (1 - 5):  \\\n",
       "0                 1.0               5.0               5.0              4.0   \n",
       "1                 1.0               5.0               5.0              4.0   \n",
       "2                 1.0               5.0               5.0              4.0   \n",
       "3                 1.0               5.0               5.0              4.0   \n",
       "4                 1.0               5.0               5.0              4.0   \n",
       "..                ...               ...               ...              ...   \n",
       "95                1.0               5.0               5.0              4.0   \n",
       "96                1.0               5.0               5.0              4.0   \n",
       "97                1.0               5.0               5.0              4.0   \n",
       "98                1.0               5.0               5.0              4.0   \n",
       "99                1.0               5.0               5.0              4.0   \n",
       "\n",
       "    - Instruction 사용 (0 - 1):  - 공감 능력 (0 - 1):  - 대화 유도 (0 - 1):  \\\n",
       "0                         1.0               1.0               1.0   \n",
       "1                         1.0               1.0               1.0   \n",
       "2                         1.0               1.0               1.0   \n",
       "3                         1.0               1.0               1.0   \n",
       "4                         1.0               1.0               0.0   \n",
       "..                        ...               ...               ...   \n",
       "95                        1.0               1.0               1.0   \n",
       "96                        1.0               1.0               1.0   \n",
       "97                        1.0               1.0               1.0   \n",
       "98                        1.0               1.0               1.0   \n",
       "99                        1.0               1.0               1.0   \n",
       "\n",
       "    - 전반적인 품질 (1 - 10):  \n",
       "0                   9.0  \n",
       "1                   9.0  \n",
       "2                   9.0  \n",
       "3                   9.0  \n",
       "4                   8.5  \n",
       "..                  ...  \n",
       "95                  9.0  \n",
       "96                  9.0  \n",
       "97                  9.0  \n",
       "98                  9.0  \n",
       "99                  9.0  \n",
       "\n",
       "[100 rows x 8 columns]"
      ]
     },
     "execution_count": 135,
     "metadata": {},
     "output_type": "execute_result"
    }
   ],
   "source": [
    "columns = stop_list\n",
    "\n",
    "df = pd.DataFrame(total_chat_score_list,  columns=columns) \n",
    "df"
   ]
  },
  {
   "cell_type": "code",
   "execution_count": 136,
   "id": "b8427bc2-62df-4544-825f-2f29a1749d2e",
   "metadata": {},
   "outputs": [
    {
     "name": "stdout",
     "output_type": "stream",
     "text": [
      "각 열의 평균:\n",
      "- 이해 가능성 (0 - 1):            1.0\n",
      "- 자연스러움 (1 - 5):             5.0\n",
      "- 맥락 유지 (1 - 5):             5.0\n",
      "- 흥미롭기 (1 - 5):              4.0\n",
      "- Instruction 사용 (0 - 1):    1.0\n",
      "- 공감 능력 (0 - 1):             1.0\n",
      "- 대화 유도 (0 - 1):             0.8\n",
      "- 전반적인 품질 (1 - 10):          8.9\n",
      "dtype: float64\n"
     ]
    }
   ],
   "source": [
    "# 각 열의 평균 계산\n",
    "column_means = df.mean().round(1)\n",
    "\n",
    "print(\"각 열의 평균:\")\n",
    "# DataFrame을 transpose하여 출력\n",
    "transposed_df = pd.DataFrame(column_means).transpose()\n",
    "\n",
    "# 칼럼명 추가\n",
    "transposed_df.rename(index={0: 'llama2-13b'}, inplace=True)\n",
    "\n",
    "print(transposed_df)"
   ]
  },
  {
   "cell_type": "code",
   "execution_count": null,
   "id": "bda522c8-9293-4eb4-a2a0-b7d2c55ac1c3",
   "metadata": {},
   "outputs": [],
   "source": []
  },
  {
   "cell_type": "code",
   "execution_count": 137,
   "id": "c51955eb-c485-4b9c-b0e1-7e83bff12ba3",
   "metadata": {},
   "outputs": [],
   "source": [
    "## 싱글/멀티 평균 구하기 \n",
    "\n",
    "# - 이해 가능성 (0 - 1):\n",
    "# - 자연스러움 (1 - 5):\n",
    "# - 맥락 유지 (1 - 5):\n",
    "# - 흥미롭기 (1 - 5):\n",
    "# - Instruction 사용 (0 - 1):\n",
    "# - 공감 능력 (0 - 1):\n",
    "# - 대화 유도 (0 - 1):\n",
    "# - 전반적인 품질 (1 - 10):\n",
    "\n",
    "chat_score_list = chat_multi3_score_list\n",
    "\n",
    "stop_list =  ['- 이해 가능성 (0 - 1):', '- 자연스러움 (1 - 5):', '- 맥락 유지 (1 - 5):', '- 흥미롭기 (1 - 5):',\n",
    "             '- Instruction 사용 (0 - 1):', '- 공감 능력 (0 - 1):', '- 대화 유도 (0 - 1):', '- 전반적인 품질 (1 - 10):']\n",
    "\n",
    "total_chat_score_list = []\n",
    "\n",
    "for s in range(len(chat_score_list)):\n",
    "    split_score = chat_score_list[s].split('\\n')\n",
    "    score_list = []\n",
    "    for j in range(len(split_score[:8])):\n",
    "        clean_score =split_score[j].replace(stop_list[j], '')\n",
    "        clean_score = float(clean_score.strip())\n",
    "        score_list.append(clean_score)\n",
    "    total_chat_score_list.append(score_list)"
   ]
  },
  {
   "cell_type": "code",
   "execution_count": 138,
   "id": "ea4d8407-1d76-4157-a5d5-64a5635a412d",
   "metadata": {},
   "outputs": [
    {
     "data": {
      "text/plain": [
       "100"
      ]
     },
     "execution_count": 138,
     "metadata": {},
     "output_type": "execute_result"
    }
   ],
   "source": [
    "len(total_chat_score_list)"
   ]
  },
  {
   "cell_type": "code",
   "execution_count": 139,
   "id": "91eab722-1d8d-4051-aa1c-2c61479fdd0c",
   "metadata": {},
   "outputs": [
    {
     "data": {
      "text/html": [
       "<div>\n",
       "<style scoped>\n",
       "    .dataframe tbody tr th:only-of-type {\n",
       "        vertical-align: middle;\n",
       "    }\n",
       "\n",
       "    .dataframe tbody tr th {\n",
       "        vertical-align: top;\n",
       "    }\n",
       "\n",
       "    .dataframe thead th {\n",
       "        text-align: right;\n",
       "    }\n",
       "</style>\n",
       "<table border=\"1\" class=\"dataframe\">\n",
       "  <thead>\n",
       "    <tr style=\"text-align: right;\">\n",
       "      <th></th>\n",
       "      <th>- 이해 가능성 (0 - 1):</th>\n",
       "      <th>- 자연스러움 (1 - 5):</th>\n",
       "      <th>- 맥락 유지 (1 - 5):</th>\n",
       "      <th>- 흥미롭기 (1 - 5):</th>\n",
       "      <th>- Instruction 사용 (0 - 1):</th>\n",
       "      <th>- 공감 능력 (0 - 1):</th>\n",
       "      <th>- 대화 유도 (0 - 1):</th>\n",
       "      <th>- 전반적인 품질 (1 - 10):</th>\n",
       "    </tr>\n",
       "  </thead>\n",
       "  <tbody>\n",
       "    <tr>\n",
       "      <th>0</th>\n",
       "      <td>1.0</td>\n",
       "      <td>5.0</td>\n",
       "      <td>5.0</td>\n",
       "      <td>4.0</td>\n",
       "      <td>1.0</td>\n",
       "      <td>1.0</td>\n",
       "      <td>1.0</td>\n",
       "      <td>9.0</td>\n",
       "    </tr>\n",
       "    <tr>\n",
       "      <th>1</th>\n",
       "      <td>1.0</td>\n",
       "      <td>5.0</td>\n",
       "      <td>5.0</td>\n",
       "      <td>4.0</td>\n",
       "      <td>1.0</td>\n",
       "      <td>1.0</td>\n",
       "      <td>0.0</td>\n",
       "      <td>8.5</td>\n",
       "    </tr>\n",
       "    <tr>\n",
       "      <th>2</th>\n",
       "      <td>1.0</td>\n",
       "      <td>5.0</td>\n",
       "      <td>5.0</td>\n",
       "      <td>4.0</td>\n",
       "      <td>1.0</td>\n",
       "      <td>1.0</td>\n",
       "      <td>0.0</td>\n",
       "      <td>8.5</td>\n",
       "    </tr>\n",
       "    <tr>\n",
       "      <th>3</th>\n",
       "      <td>1.0</td>\n",
       "      <td>5.0</td>\n",
       "      <td>5.0</td>\n",
       "      <td>4.0</td>\n",
       "      <td>1.0</td>\n",
       "      <td>1.0</td>\n",
       "      <td>1.0</td>\n",
       "      <td>9.0</td>\n",
       "    </tr>\n",
       "    <tr>\n",
       "      <th>4</th>\n",
       "      <td>1.0</td>\n",
       "      <td>5.0</td>\n",
       "      <td>5.0</td>\n",
       "      <td>4.0</td>\n",
       "      <td>1.0</td>\n",
       "      <td>1.0</td>\n",
       "      <td>1.0</td>\n",
       "      <td>9.0</td>\n",
       "    </tr>\n",
       "    <tr>\n",
       "      <th>...</th>\n",
       "      <td>...</td>\n",
       "      <td>...</td>\n",
       "      <td>...</td>\n",
       "      <td>...</td>\n",
       "      <td>...</td>\n",
       "      <td>...</td>\n",
       "      <td>...</td>\n",
       "      <td>...</td>\n",
       "    </tr>\n",
       "    <tr>\n",
       "      <th>95</th>\n",
       "      <td>1.0</td>\n",
       "      <td>5.0</td>\n",
       "      <td>5.0</td>\n",
       "      <td>4.0</td>\n",
       "      <td>1.0</td>\n",
       "      <td>1.0</td>\n",
       "      <td>1.0</td>\n",
       "      <td>9.0</td>\n",
       "    </tr>\n",
       "    <tr>\n",
       "      <th>96</th>\n",
       "      <td>1.0</td>\n",
       "      <td>5.0</td>\n",
       "      <td>5.0</td>\n",
       "      <td>4.0</td>\n",
       "      <td>1.0</td>\n",
       "      <td>1.0</td>\n",
       "      <td>1.0</td>\n",
       "      <td>9.0</td>\n",
       "    </tr>\n",
       "    <tr>\n",
       "      <th>97</th>\n",
       "      <td>1.0</td>\n",
       "      <td>5.0</td>\n",
       "      <td>5.0</td>\n",
       "      <td>4.0</td>\n",
       "      <td>1.0</td>\n",
       "      <td>1.0</td>\n",
       "      <td>0.0</td>\n",
       "      <td>8.5</td>\n",
       "    </tr>\n",
       "    <tr>\n",
       "      <th>98</th>\n",
       "      <td>1.0</td>\n",
       "      <td>5.0</td>\n",
       "      <td>5.0</td>\n",
       "      <td>4.0</td>\n",
       "      <td>1.0</td>\n",
       "      <td>1.0</td>\n",
       "      <td>1.0</td>\n",
       "      <td>9.0</td>\n",
       "    </tr>\n",
       "    <tr>\n",
       "      <th>99</th>\n",
       "      <td>1.0</td>\n",
       "      <td>5.0</td>\n",
       "      <td>5.0</td>\n",
       "      <td>4.0</td>\n",
       "      <td>1.0</td>\n",
       "      <td>1.0</td>\n",
       "      <td>0.0</td>\n",
       "      <td>8.5</td>\n",
       "    </tr>\n",
       "  </tbody>\n",
       "</table>\n",
       "<p>100 rows × 8 columns</p>\n",
       "</div>"
      ],
      "text/plain": [
       "    - 이해 가능성 (0 - 1):  - 자연스러움 (1 - 5):  - 맥락 유지 (1 - 5):  - 흥미롭기 (1 - 5):  \\\n",
       "0                 1.0               5.0               5.0              4.0   \n",
       "1                 1.0               5.0               5.0              4.0   \n",
       "2                 1.0               5.0               5.0              4.0   \n",
       "3                 1.0               5.0               5.0              4.0   \n",
       "4                 1.0               5.0               5.0              4.0   \n",
       "..                ...               ...               ...              ...   \n",
       "95                1.0               5.0               5.0              4.0   \n",
       "96                1.0               5.0               5.0              4.0   \n",
       "97                1.0               5.0               5.0              4.0   \n",
       "98                1.0               5.0               5.0              4.0   \n",
       "99                1.0               5.0               5.0              4.0   \n",
       "\n",
       "    - Instruction 사용 (0 - 1):  - 공감 능력 (0 - 1):  - 대화 유도 (0 - 1):  \\\n",
       "0                         1.0               1.0               1.0   \n",
       "1                         1.0               1.0               0.0   \n",
       "2                         1.0               1.0               0.0   \n",
       "3                         1.0               1.0               1.0   \n",
       "4                         1.0               1.0               1.0   \n",
       "..                        ...               ...               ...   \n",
       "95                        1.0               1.0               1.0   \n",
       "96                        1.0               1.0               1.0   \n",
       "97                        1.0               1.0               0.0   \n",
       "98                        1.0               1.0               1.0   \n",
       "99                        1.0               1.0               0.0   \n",
       "\n",
       "    - 전반적인 품질 (1 - 10):  \n",
       "0                   9.0  \n",
       "1                   8.5  \n",
       "2                   8.5  \n",
       "3                   9.0  \n",
       "4                   9.0  \n",
       "..                  ...  \n",
       "95                  9.0  \n",
       "96                  9.0  \n",
       "97                  8.5  \n",
       "98                  9.0  \n",
       "99                  8.5  \n",
       "\n",
       "[100 rows x 8 columns]"
      ]
     },
     "execution_count": 139,
     "metadata": {},
     "output_type": "execute_result"
    }
   ],
   "source": [
    "columns = stop_list\n",
    "\n",
    "df = pd.DataFrame(total_chat_score_list,  columns=columns) \n",
    "df"
   ]
  },
  {
   "cell_type": "code",
   "execution_count": 140,
   "id": "bf11ec3c-db1f-4296-aea0-3c9262adcbed",
   "metadata": {},
   "outputs": [
    {
     "name": "stdout",
     "output_type": "stream",
     "text": [
      "각 열의 평균:\n",
      "- 이해 가능성 (0 - 1):            1.0\n",
      "- 자연스러움 (1 - 5):             5.0\n",
      "- 맥락 유지 (1 - 5):             5.0\n",
      "- 흥미롭기 (1 - 5):              4.0\n",
      "- Instruction 사용 (0 - 1):    1.0\n",
      "- 공감 능력 (0 - 1):             1.0\n",
      "- 대화 유도 (0 - 1):             0.7\n",
      "- 전반적인 품질 (1 - 10):          8.8\n",
      "dtype: float64\n"
     ]
    }
   ],
   "source": [
    "# 각 열의 평균 계산\n",
    "column_means = df.mean().round(1)\n",
    "\n",
    "print(\"각 열의 평균:\")\n",
    "# DataFrame을 transpose하여 출력\n",
    "transposed_df = pd.DataFrame(column_means).transpose()\n",
    "\n",
    "# 칼럼명 추가\n",
    "transposed_df.rename(index={0: 'llama2-13b'}, inplace=True)\n",
    "\n",
    "print(transposed_df)"
   ]
  },
  {
   "cell_type": "code",
   "execution_count": null,
   "id": "6fd23620-88fb-46ef-873e-8af20d4f4e7d",
   "metadata": {},
   "outputs": [],
   "source": []
  },
  {
   "cell_type": "code",
   "execution_count": null,
   "id": "4cd96e9b-3ad6-4f8f-b601-cea9190a1d4a",
   "metadata": {},
   "outputs": [],
   "source": []
  },
  {
   "cell_type": "code",
   "execution_count": null,
   "id": "4826cf7b-bc6c-49fb-bbd6-f1dfdaa1c6e6",
   "metadata": {},
   "outputs": [],
   "source": []
  },
  {
   "cell_type": "code",
   "execution_count": null,
   "id": "e78bdd7f-ec0c-4578-b8dc-155177f79aa9",
   "metadata": {},
   "outputs": [],
   "source": [
    "## 정성 평가용 "
   ]
  },
  {
   "cell_type": "code",
   "execution_count": 8,
   "id": "1b8904c9-0a34-4593-904b-adf3a7ea82a7",
   "metadata": {},
   "outputs": [],
   "source": [
    "import json\n",
    "\n",
    "with open('./templates/template_v002.json', 'r',  encoding='utf-8') as file:\n",
    "    data = json.load(file)"
   ]
  },
  {
   "cell_type": "code",
   "execution_count": 20,
   "id": "e2873b7e-888c-4533-9826-8bebd92c5749",
   "metadata": {},
   "outputs": [
    {
     "data": {
      "text/plain": [
       "{'description': '멀티 턴 대화를 이전 대화 history와 현재 사용자 질문으로 구분해주는 템플릿 입니다. 또한, 2가지 task 분류, 요약을 추가하였습니다.',\n",
       " 'prompt': '이전 대화와 현재 대화의 명령어를 참고하여 가장 적절한 응답을 생성해주세요. 일상적인 대화의 경우, 응답 마지막에는 지금까지의 내용과 관련된 질문을 해주세요.\\n\\n[이전 대화]\\n{history}\\n\\n[현재 대화]\\n### 명령어:\\n{instruction}\\n\\n### 응답:\\n',\n",
       " 'response_split': '### 응답:'}"
      ]
     },
     "execution_count": 20,
     "metadata": {},
     "output_type": "execute_result"
    }
   ],
   "source": [
    "data"
   ]
  },
  {
   "cell_type": "code",
   "execution_count": null,
   "id": "7c67e32a-3702-4402-8409-b34ef5d6523d",
   "metadata": {},
   "outputs": [],
   "source": [
    "his_log = ''\n",
    "cnt = 0 \n",
    "print('무엇이든 질문해보세요! ')\n",
    "while True:\n",
    "    query = input('[### 나]: ')\n",
    "    prompt = data['prompt'].format(history=his_log, instruction=query)\n",
    "    result = inference_output(prompt)\n",
    "    response = result.split('\\n\\n'+data['response_split'])[1]\n",
    "    response = response.replace('<|endoftext|>', '').strip()\n",
    "    print()\n",
    "    print('[### 심심이봇]: ',response)\n",
    "    print()\n",
    "    if cnt == 0:\n",
    "        his_log = query  +'\\n'+ response\n",
    "    else:\n",
    "        his_log = his_log +'\\n'+query + '\\n' + response\n",
    "    cnt += 1 \n",
    "    #end = int(input('끝낼꺼면 0 입력'))\n",
    "    #if end == 0:\n",
    "    if cnt == 10:\n",
    "        print('대화종료')\n",
    "        break"
   ]
  },
  {
   "cell_type": "code",
   "execution_count": null,
   "id": "dd154916-033a-482f-8380-5c563b4fb366",
   "metadata": {},
   "outputs": [],
   "source": []
  },
  {
   "cell_type": "code",
   "execution_count": null,
   "id": "977e5f13-65ca-4ede-a470-4013c3fa2aec",
   "metadata": {},
   "outputs": [],
   "source": []
  },
  {
   "cell_type": "code",
   "execution_count": null,
   "id": "1efc4322-1411-4bd9-9b4f-3f91f29413b1",
   "metadata": {},
   "outputs": [],
   "source": []
  },
  {
   "cell_type": "code",
   "execution_count": 61,
   "id": "f02e957f-fda4-41f0-ab95-49275b011552",
   "metadata": {},
   "outputs": [],
   "source": [
    "## 불러오기 \n",
    "os.environ['OPENAI_API_KEY'] = '인증키'\n",
    "\n",
    "gpt_model = 'gpt-4'\n",
    "\n",
    "\n",
    "## G-EVAL 평가용 : 싱글/멀티, 요약 \n",
    "\n",
    "def chat_test_prompt_gpt(instruction, response, gpt_model):\n",
    "    with open('./templates/chat_test.txt', 'r',  encoding='utf-8') as file:\n",
    "        file_contents = file.read()\n",
    "\n",
    "    #p_template = file_contents.format(instruction, response)\n",
    "\n",
    "    contents = file_contents.replace('{{instruction}}', instruction)\n",
    "    p_template = contents.replace('{{response}}', response)\n",
    "    #print(p_template)\n",
    "\n",
    "    result = get_completion(p_template, gpt_model, temperature=0, verbose=False)\n",
    "    \n",
    "    return result\n",
    "\n",
    "def summary_test_prompt_gpt(Document, Summary, gpt_model):\n",
    "    with open('./templates/summary_test.txt', 'r',  encoding='utf-8') as file:\n",
    "        file_contents = file.read()\n",
    "\n",
    "    contents = file_contents.replace('{{Document}}', Document)\n",
    "    p_template = contents.replace('{{Summary}}', Summary)\n",
    "\n",
    "    result = get_completion(p_template, gpt_model, temperature=0, verbose=False)\n",
    "\n",
    "    return result\n",
    "\n",
    "# error, retry 추가\n",
    "def get_completion(prompt, model, temperature=0, verbose=False):\n",
    "    messages = [{\"role\": \"user\", \"content\": prompt}]\n",
    "    \n",
    "    time_start = time.time()\n",
    "    retry_count = 3\n",
    "    for i in range(0, retry_count):\n",
    "        while True:\n",
    "            try:    \n",
    "                response = openai.ChatCompletion.create(\n",
    "                    model=model,\n",
    "                    messages=messages,\n",
    "                    temperature=temperature, # this is the degree of randomness of the model's output\n",
    "                )\n",
    "                answer = response['choices'][0]['message']['content'].strip()                \n",
    "                tokens = response.usage.total_tokens                \n",
    "                \n",
    "                \n",
    "                time_end = time.time()\n",
    "                \n",
    "                if verbose:\n",
    "                    print('prompt: %s | token: %d | %.1fsec\\nanwer : %s'%(prompt, tokens, (time_end - time_start), answer))\n",
    "                return answer\n",
    "            \n",
    "            except Exception as error:\n",
    "                print(f\"API Error: {error}\")\n",
    "                print(f\"Retrying {i+1} time(s) in 4 seconds...\")\n",
    "                \n",
    "                if i+1 == retry_count:\n",
    "                    return prompt, None, None\n",
    "                time.sleep(4)\n",
    "                continue\n"
   ]
  },
  {
   "cell_type": "code",
   "execution_count": 6,
   "id": "16a882d7-a7e7-42f3-bb4b-91a5783228f7",
   "metadata": {},
   "outputs": [],
   "source": [
    "## 최종정리 \n",
    "\n",
    "# 싱글/멀티 대화턴인 경우\n",
    "def chat_testset_load():\n",
    "    test_dir = './data/model_test/'\n",
    "    test_save_name = 'task_chat_test'\n",
    "    csv_file_path = test_dir + f\"output_{test_save_name}_dataset.csv\"\n",
    "    loaded_data = pd.read_csv(csv_file_path)\n",
    "    unique_types = loaded_data['type'].unique()\n",
    "    test_dic = {key: [] for key in unique_types}\n",
    "\n",
    "    for i in range(len(loaded_data)):\n",
    "        inst = loaded_data['instruction'][i]\n",
    "        output = loaded_data['response'][i]\n",
    "        type = loaded_data['type'][i]\n",
    "        test_dic[type].append([inst, output])\n",
    "\n",
    "    result = test_dic['single'], test_dic['multi_2'], test_dic['multi_3']\n",
    "    return result\n",
    "    \n",
    "# 요약인 경우\n",
    "def summary_testset_load():\n",
    "    test_dir = './data/model_test/'\n",
    "    test_save_name = 'task_summarization_test'\n",
    "    csv_file_path = test_dir + f\"output_{test_save_name}_dataset.csv\"\n",
    "    loaded_data = pd.read_csv(csv_file_path)\n",
    "    unique_types = loaded_data['type'].unique()\n",
    "    test_dic = {key: [] for key in unique_types}\n",
    "\n",
    "    for i in range(len(loaded_data)):\n",
    "        input_ = loaded_data['input'][i]\n",
    "        inst = loaded_data['instruction'][i]\n",
    "        output = loaded_data['response'][i]\n",
    "        type = loaded_data['type'][i]\n",
    "        test_dic[type].append([inst, input_, output])\n",
    "        \n",
    "    return test_dic['task_summarization']\n",
    "    \n",
    "# 분류인 경우\n",
    "def sentiment_testset_load():\n",
    "    test_dir = './data/model_test/'\n",
    "    test_save_name = 'task_classification_test'\n",
    "    csv_file_path = test_dir + f\"output_{test_save_name}_dataset.csv\"\n",
    "    loaded_data = pd.read_csv(csv_file_path)\n",
    "    unique_types = loaded_data['type'].unique()\n",
    "    test_dic = {key: [] for key in unique_types}\n",
    "\n",
    "    for i in range(len(loaded_data)):\n",
    "        inst = loaded_data['instruction'][i]\n",
    "        output = loaded_data['response'][i]\n",
    "        type = loaded_data['type'][i]\n",
    "        test_dic[type].append([inst, output])\n",
    "\n",
    "    senti_list = test_dic['task_classification']\n",
    "\n",
    "    # Mapping dictionary for positive, negative, neutral to numbers\n",
    "    mapping = {'긍정': 2, '중립': 1, '부정': 0}\n",
    "\n",
    "    # Create an empty list to store the mapped results\n",
    "    transformed_lst = []\n",
    "\n",
    "    # Iterate through the list, map each element, and add to the transformed list\n",
    "    for element in senti_list:\n",
    "        # Use the first element of the inner list for mapping\n",
    "        sentiment = element[1]\n",
    "        transformed_sentiment = mapping.get(sentiment, sentiment)\n",
    "        transformed_lst.append([element[0], transformed_sentiment])\n",
    "\n",
    "    return transformed_lst\n",
    "\n",
    "def inference_output(prompt):\n",
    "    # 인퍼런스 커스텀\n",
    "    inputs = tokenizer(prompt, return_tensors=\"pt\", add_special_tokens=False).to(\"cuda\") # return_token_type_ids=False\n",
    "    # peft 일시, **tokenizer(prompt, return_tensors=\"pt\", add_special_tokens=False) 아래 inputs['input_ids'] 교체 , 위는 삭제 \n",
    "    output = model.generate(\n",
    "        inputs[\"input_ids\"],\n",
    "        max_new_tokens = 256,\n",
    "        do_sample=True,\n",
    "        top_p=0.9,\n",
    "        temperature=0.1,\n",
    "        early_stopping=True,\n",
    "        eos_token_id= 46332, \n",
    "    )\n",
    "    output = output[0].to(\"cpu\")\n",
    "    return tokenizer.decode(output)"
   ]
  },
  {
   "cell_type": "code",
   "execution_count": null,
   "id": "2a9efcc1-bc4e-4813-a03a-10c31580855a",
   "metadata": {},
   "outputs": [],
   "source": []
  }
 ],
 "metadata": {
  "kernelspec": {
   "display_name": "oosij",
   "language": "python",
   "name": "oosij"
  },
  "language_info": {
   "codemirror_mode": {
    "name": "ipython",
    "version": 3
   },
   "file_extension": ".py",
   "mimetype": "text/x-python",
   "name": "python",
   "nbconvert_exporter": "python",
   "pygments_lexer": "ipython3",
   "version": "3.10.6"
  }
 },
 "nbformat": 4,
 "nbformat_minor": 5
}
